{
 "cells": [
  {
   "cell_type": "code",
   "execution_count": 2,
   "metadata": {},
   "outputs": [],
   "source": [
    "import matplotlib.pyplot as plt\n",
    "import numpy as np"
   ]
  },
  {
   "cell_type": "code",
   "execution_count": 111,
   "metadata": {},
   "outputs": [
    {
     "name": "stdout",
     "output_type": "stream",
     "text": [
      "[[-39.4517185    1.39002945   0.           1.12877124  -2.53394681\n",
      "   16.29498505  11.56769947 -13.32989215]\n",
      " [-36.14929854  12.82341118   0.           0.40777085   4.62114802\n",
      "   15.74803829  10.0418476  -12.01382203]\n",
      " [-29.34557793   3.84784791   0.           0.62155305  -1.44255274\n",
      "   17.31262363  15.82892719  -7.88087887]\n",
      " [-34.71352773 -10.09838952   0.           0.39564903   1.87968278\n",
      "   14.42824111  13.73634579 -10.57854697]\n",
      " [  0.          -0.81236703  -2.79531943  -5.52311251   0.\n",
      "    0.           0.           0.        ]\n",
      " [  0.          -4.18022385   0.           0.           0.\n",
      "    0.           0.           0.        ]]\n"
     ]
    }
   ],
   "source": [
    "#q = np.load('q.npy').reshape(3**4*2,6)\n",
    "w = np.load('../../weights.npy')\n",
    "print(w)"
   ]
  },
  {
   "cell_type": "code",
   "execution_count": 112,
   "metadata": {
    "scrolled": true
   },
   "outputs": [
    {
     "data": {
      "image/png": "[encoded data removed]",
      "text/plain": [
       "<Figure size 432x288 with 2 Axes>"
      ]
     },
     "metadata": {
      "needs_background": "light"
     },
     "output_type": "display_data"
    }
   ],
   "source": [
    "#plt.imshow(q, aspect='auto')\n",
    "plt.imshow(w)\n",
    "plt.title('weights')\n",
    "plt.ylabel('action')\n",
    "plt.xlabel('feature')\n",
    "plt.colorbar()\n",
    "plt.show()"
   ]
  },
  {
   "cell_type": "code",
   "execution_count": 113,
   "metadata": {
    "scrolled": true
   },
   "outputs": [],
   "source": [
    "r=np.genfromtxt('rewards.txt')"
   ]
  },
  {
   "cell_type": "code",
   "execution_count": 114,
   "metadata": {
    "scrolled": true
   },
   "outputs": [
    {
     "data": {
      "text/plain": [
       "[<matplotlib.lines.Line2D at 0x11ddaaef0>]"
      ]
     },
     "execution_count": 114,
     "metadata": {},
     "output_type": "execute_result"
    },
    {
     "data": {
      "image/png": "[encoded data removed]",
      "text/plain": [
       "<Figure size 432x288 with 1 Axes>"
      ]
     },
     "metadata": {
      "needs_background": "light"
     },
     "output_type": "display_data"
    }
   ],
   "source": [
    "window = 5\n",
    "smoothed_rewards = [np.mean(r[i-window:i+1]) if i > window \n",
    "                    else np.mean(r[:i+1]) for i in range(len(r))]\n",
    "\n",
    "#plt.plot(r)\n",
    "plt.plot(smoothed_rewards)"
   ]
  },
  {
   "cell_type": "code",
   "execution_count": 22,
   "metadata": {},
   "outputs": [],
   "source": [
    "Q = [np.zeros((2,2,2))]*6\n",
    "\n",
    "feature = [np.array([1,0,1,2,3])]*6\n",
    "t=tuple(feature[0])"
   ]
  },
  {
   "cell_type": "code",
   "execution_count": 26,
   "metadata": {},
   "outputs": [],
   "source": [
    "f = [feature[i][:3] for i in range(6)]"
   ]
  },
  {
   "cell_type": "code",
   "execution_count": 27,
   "metadata": {},
   "outputs": [
    {
     "data": {
      "text/plain": [
       "[array([1, 0, 1]),\n",
       " array([1, 0, 1]),\n",
       " array([1, 0, 1]),\n",
       " array([1, 0, 1]),\n",
       " array([1, 0, 1]),\n",
       " array([1, 0, 1])]"
      ]
     },
     "execution_count": 27,
     "metadata": {},
     "output_type": "execute_result"
    }
   ],
   "source": [
    "f"
   ]
  },
  {
   "cell_type": "code",
   "execution_count": null,
   "metadata": {},
   "outputs": [],
   "source": []
  }
 ],
 "metadata": {
  "kernelspec": {
   "display_name": "Python 3",
   "language": "python",
   "name": "python3"
  },
  "language_info": {
   "codemirror_mode": {
    "name": "ipython",
    "version": 3
   },
   "file_extension": ".py",
   "mimetype": "text/x-python",
   "name": "python",
   "nbconvert_exporter": "python",
   "pygments_lexer": "ipython3",
   "version": "3.6.8"
  }
 },
 "nbformat": 4,
 "nbformat_minor": 2
}
